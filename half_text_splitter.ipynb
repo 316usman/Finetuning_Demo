{
 "cells": [
  {
   "cell_type": "code",
   "execution_count": null,
   "metadata": {},
   "outputs": [],
   "source": [
    "from transformers import AutoTokenizer\n",
    "model_name = \"NousResearch/Llama-2-7b-chat-hf\"\n",
    "tokenizer = AutoTokenizer.from_pretrained(model_name, trust_remote_code=True)"
   ]
  },
  {
   "cell_type": "code",
   "execution_count": null,
   "metadata": {},
   "outputs": [],
   "source": [
    "def half_text_splitter(text, tokenizer):\n",
    "    encoded_text = tokenizer(text, return_tensors=\"pt\")\n",
    "    input_ids_length = len(encoded_text[\"input_ids\"][0])\n",
    "    halfway_point = input_ids_length // 2\n",
    "    first_half_input_ids = encoded_text[\"input_ids\"][0][:halfway_point]\n",
    "    decoded_text = tokenizer.decode(first_half_input_ids)\n",
    "    return (decoded_text)"
   ]
  },
  {
   "cell_type": "code",
   "execution_count": null,
   "metadata": {},
   "outputs": [],
   "source": [
    "text = \"This is a text that is going to be split into two halves. This is the first half\"\n",
    "half_text_splitter(text, tokenizer)"
   ]
  },
  {
   "cell_type": "code",
   "execution_count": null,
   "metadata": {},
   "outputs": [],
   "source": [
    "half_text = []\n",
    "for item in validation_set:\n",
    "    half_text.append(half_text_splitter(item['text'], tokenizer))"
   ]
  },
  {
   "cell_type": "code",
   "execution_count": null,
   "metadata": {},
   "outputs": [],
   "source": [
    "validation_set = validation_set.add_column(\"half_text\", half_text)"
   ]
  },
  {
   "cell_type": "code",
   "execution_count": null,
   "metadata": {},
   "outputs": [],
   "source": [
    "validation_set.push_to_hub('316usman/tapal_validation_dataset')"
   ]
  }
 ],
 "metadata": {
  "language_info": {
   "name": "python"
  }
 },
 "nbformat": 4,
 "nbformat_minor": 2
}
