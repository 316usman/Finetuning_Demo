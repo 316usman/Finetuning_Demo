{
 "cells": [
  {
   "cell_type": "code",
   "execution_count": 1,
   "metadata": {},
   "outputs": [],
   "source": [
    "import re\n",
    "import os"
   ]
  },
  {
   "cell_type": "code",
   "execution_count": 2,
   "metadata": {},
   "outputs": [],
   "source": [
    "def clean_text(input_file):\n",
    "    with open(input_file, 'r') as infile:\n",
    "        content = infile.read()\n",
    "    content = content.replace('     \\n', '')\n",
    "    cleaned_content = re.sub(r'\\n{2,}', '\\n', content)\n",
    "    cleaned_content = re.sub(r'Head Office[\\s\\S]*$', '', cleaned_content)\n",
    "    cleaned_content = re.sub(r'\\b\\d{1,3}[-.]?\\d{1,3}[-.]?\\d{1,5}\\b', '', cleaned_content)\n",
    "    cleaned_content = re.sub(r'\\b[A-Za-z0-9._%+-]+@[A-Za-z0-9.-]+\\.[A-Z|a-z]{2,}\\b', '', cleaned_content)\n",
    "    \n",
    "    with open('C:\\\\Users\\\\Dell\\\\Desktop\\\\scrapper_tapal\\\\cleaned_files\\\\' + input_file, 'w') as outfile:\n",
    "        outfile.write(cleaned_content)"
   ]
  },
  {
   "cell_type": "code",
   "execution_count": 3,
   "metadata": {},
   "outputs": [],
   "source": [
    "for file in os.listdir('C:\\\\Users\\\\Dell\\\\Desktop\\\\scrapper_tapal\\\\'):\n",
    "    if file.endswith('.txt'):\n",
    "        print (file)\n",
    "        clean_text(file)"
   ]
  },
  {
   "cell_type": "code",
   "execution_count": null,
   "metadata": {},
   "outputs": [],
   "source": []
  }
 ],
 "metadata": {
  "kernelspec": {
   "display_name": "base",
   "language": "python",
   "name": "python3"
  },
  "language_info": {
   "codemirror_mode": {
    "name": "ipython",
    "version": 3
   },
   "file_extension": ".py",
   "mimetype": "text/x-python",
   "name": "python",
   "nbconvert_exporter": "python",
   "pygments_lexer": "ipython3",
   "version": "3.11.4"
  }
 },
 "nbformat": 4,
 "nbformat_minor": 2
}
