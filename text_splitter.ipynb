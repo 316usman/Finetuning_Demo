{
 "cells": [
  {
   "cell_type": "code",
   "execution_count": 1,
   "metadata": {},
   "outputs": [],
   "source": [
    "import os\n",
    "import re\n",
    "website_text = []\n",
    "\n",
    "def text_cleaner(text):\n",
    "    cleaned_text = re.sub(r'(\\n{3,}|\\t{3,}|\\t)|\\xa0', '', text)\n",
    "    cleaned_text = re.sub(r' \\n', '', cleaned_text)\n",
    "    return (cleaned_text)\n",
    "\n",
    "for file in os.listdir(\"C:\\\\Users\\\\Dell\\\\Desktop\\\\scrapper_tapal\\\\cleaned_files\\\\\"):\n",
    "    with open(\"C:\\\\Users\\\\Dell\\\\Desktop\\\\scrapper_tapal\\\\cleaned_files\\\\\" + file, \"r\") as f:\n",
    "        file_text = f.read()\n",
    "        file_text = file_text.replace(\" \\n\", \"\")\n",
    "        website_text.append(text_cleaner(file_text))\n"
   ]
  },
  {
   "cell_type": "code",
   "execution_count": 2,
   "metadata": {},
   "outputs": [
    {
     "data": {
      "text/plain": [
       "['Discover a Whole New world OF\\nTaste, Aroma & Flavour\\nABOUT TAPAL\\n\\nWelcome to Tapal Tea!\\nWith every brand of Tapal discover a whole new world of taste, aroma, flavour, which will certainly make you fall in love with every sip.\\nLearn more about us\\n Trust\\nAll our practices take root in trust, integrity, and commitment, none of which we will compromise.\\n Quality\\nWe strive to excel in all our undertakings, and deliver excellence to our consumers too.\\n Creativity\\nWe encourage lateral thinking, and are receptive to fresh concepts.\\nOur Brands\\nTapal Tea brands are sold throughout the country in some ,+ retail stores, and marketed internationally\\nTapal produces various popular and high quality brands of tea that are distributed across the length and breadth of the country through a network of distribution/institutions.\\nView all Brands\\nTapal Chenak\\nPiyar Karun Warunjee Chah (A tea for those who love)\\nTapal Chenak is a brand specifically catered to the needs of the people of Tharparkar and the geography of Thar necessitates a sense of longing. Anticipation, yearning to re unite with loved ones, and the beauty of the sweet re union are attributes that Tapal Chenak thrives on.\\nTapal GulBahar\\nKashmiri aur Sabz Chai dono banai!\\nGulbahar, the oldest green tea brand, was launched by Tapal in  to especially cater to its northern market where “Sabz Chai or Qahwa” and “Kashmiri Chai” is very popular. It is available in sachets of 35g and hard packs of 90g in the market\\nTapal Green Tea\\nKhaanay kay baad, Tapa Green Tea Please.\\nTapal Green Tea is blended to perfection using the finest green tea leaves and specially selected natural ingredients & flavors, to create the perfect harmony of taste and aroma. Each teabag is individually packed so the freshness of Tapal Green Tea’s Natural Ingredients remains intact.\\nTapal Special\\nPiyar Karun Warunji Chah (A tea for those who love)\\nTapal Family Mixture was the first brand of the Tapal Tea Company. Family Mixture originated from a small shop in Jodia Bazar and is now one of the most popular brands in Karachi.\\nTapal Danedar 3 in 1\\nTruly yours\\nTapal Danedar 3 in 1 Instant Tea promises the same great taste, color and aroma associated with Tapal Danedar combined with the enticing flavor of Elaichi.\\nTapal Danedar\\nTum, Mein Aur Ek Cup Chai\\nTapal Danedar has long maintained its reputation of having a unique blend. As Pakistan’s first Danedar brand, Tapal Danedar has proved to be the first choice of tea connoisseurs across the country.\\nTapal Family Mixture\\nMeri Family, Meri Strength\\nTapal Family Mixture was the first brand of the Tapal Tea Company. Family Mixture originated from a small shop in Jodia Bazar and is now one of the most popular brands in Karachi.\\nTapal Tezdum\\nLagay Tha Ker Ke\\nTapal Tezdum is a blend of high grown Kenyan primary leaf grades, which are carefully selected for their distinct flavor and bright golden rich color. The blend is specially designed to guarantee a faster infusion with a quick brewing time for a rich and strong taste.\\nTapal Mezban\\nMezbani jo raaz (the secret of hospitality)\\nTapal Mezban has been known as the premium dust tea brand that understands and reflects the true essence of Sindhi culture and hospitality. Through its unmatchable and distinct flavour, it has consistently delivered its promise as the thriving market leader in the tea dust category.\\nTapal Chenak\\nPiyar Karun Warunjee Chah (A tea for those who love)\\nTapal Chenak is a brand specifically catered to the needs of the people of Tharparkar and the geography of Thar necessitates a sense of longing. Anticipation, yearning to re unite with loved ones, and the beauty of the sweet re union are attributes that Tapal Chenak thrives on.\\nTapal GulBahar\\nKashmiri aur Sabz Chai dono banai!\\nGulbahar, the oldest green tea brand, was launched by Tapal in  to especially cater to its northern market where “Sabz Chai or Qahwa” and “Kashmiri Chai” is very popular. It is available in sachets of 35g and hard packs of 90g in the market\\nTapal Green Tea\\nKhaanay kay baad, Tapa Green Tea Please.\\nTapal Green Tea is blended to perfection using the finest green tea leaves and specially selected natural ingredients & flavors, to create the perfect harmony of taste and aroma. Each teabag is individually packed so the freshness of Tapal Green Tea’s Natural Ingredients remains intact.\\nTapal Special\\nPiyar Karun Warunji Chah (A tea for those who love)\\nTapal Family Mixture was the first brand of the Tapal Tea Company. Family Mixture originated from a small shop in Jodia Bazar and is now one of the most popular brands in Karachi.\\nTapal Danedar 3 in 1\\nTruly yours\\nTapal Danedar 3 in 1 Instant Tea promises the same great taste, color and aroma associated with Tapal Danedar combined with the enticing flavor of Elaichi.\\nTapal Danedar\\nTum, Mein Aur Ek Cup Chai\\nTapal Danedar has long maintained its reputation of having a unique blend. As Pakistan’s first Danedar brand, Tapal Danedar has proved to be the first choice of tea connoisseurs across the country.\\nTapal Family Mixture\\nMeri Family, Meri Strength\\nTapal Family Mixture was the first brand of the Tapal Tea Company. Family Mixture originated from a small shop in Jodia Bazar and is now one of the most popular brands in Karachi.\\nTapal Tezdum\\nLagay Tha Ker Ke\\nTapal Tezdum is a blend of high grown Kenyan primary leaf grades, which are carefully selected for their distinct flavor and bright golden rich color. The blend is specially designed to guarantee a faster infusion with a quick brewing time for a rich and strong taste.\\nTapal Mezban\\nMezbani jo raaz (the secret of hospitality)\\nTapal Mezban has been known as the premium dust tea brand that understands and reflects the true essence of Sindhi culture and hospitality. Through its unmatchable and distinct flavour, it has consistently delivered its promise as the thriving market leader in the tea dust category.\\nTapal Chenak\\nPiyar Karun Warunjee Chah (A tea for those who love)\\nTapal Chenak is a brand specifically catered to the needs of the people of Tharparkar and the geography of Thar necessitates a sense of longing. Anticipation, yearning to re unite with loved ones, and the beauty of the sweet re union are attributes that Tapal Chenak thrives on.\\n‹\\n›\\nRecent TVCs\\nLatest Events & News\\nMAR\\n17\\n#BreakTheBias\\nOur leadership team pledges to #Breakthebias not just today but every day! #iwd2022 #breakthebias\\nMAR\\n17\\nInternation Women’s Day\\nDiversity and inclusion is a core belief of our leadership in Tapal. “I will actively help spread more awareness around the phenomenon of unconscious bias” #iwd2022 #breakthebias\\nMAR\\n17\\nDiverse & Inclusive Culture at Tapal\\nDiversity and inclusion is a core belief of our leadership in Tapal. “I will ensure women are given equal opportunities in sales roles” #iwd2022 #breakthebias\\nMAR\\n17\\nMyth Buster Series #2\\nThis Women’s Day Tapal helps debunk the myths surrounding women in the workplace! “At Tapal I was able to challenge the notion that women cannot succeed in a field based […]\\nMAR\\n17\\nInternational Women’s Day\\nThis International Women’s Day we celebrated with our esteemed guestHalima Iqbal, founder of Oraan Committee, the first digital committee platform led by Women for Women, andSyeda Sadaf Shah, First Female […]\\nMAR\\n17\\nHappy International Women’s Day\\n“In Tapal out teams come together to break the biases to create an inclusive culture” #iwd2022 #breakthebias\\nMAR\\n17\\n#BreakTheBias\\nOur leadership team pledges to #Breakthebias not just today but every day! #iwd2022 #breakthebias\\nMAR\\n17\\nInternation Women’s Day\\nDiversity and inclusion is a core belief of our leadership in Tapal. “I will actively help spread more awareness around the phenomenon of unconscious bias” #iwd2022 #breakthebias\\nMAR\\n17\\nDiverse & Inclusive Culture at Tapal\\nDiversity and inclusion is a core belief of our leadership in Tapal. “I will ensure women are given equal opportunities in sales roles” #iwd2022 #breakthebias\\nMAR\\n17\\nMyth Buster Series #2\\nThis Women’s Day Tapal helps debunk the myths surrounding women in the workplace! “At Tapal I was able to challenge the notion that women cannot succeed in a field based […]\\nMAR\\n17\\nInternational Women’s Day\\nThis International Women’s Day we celebrated with our esteemed guestHalima Iqbal, founder of Oraan Committee, the first digital committee platform led by Women for Women, andSyeda Sadaf Shah, First Female […]\\nMAR\\n17\\nHappy International Women’s Day\\n“In Tapal out teams come together to break the biases to create an inclusive culture” #iwd2022 #breakthebias\\n‹\\n›\\nLife at Tapal\\nTapal Tea is the largest fully Pakistani-owned tea company in Pakistan. The company employs around + people in its two factories, with a leading market share of over 50 percent. The Management and the Employees of Tapal Tea (Private) Limited is committed to:\\nSatisfy our stakeholders and be a benchmark for Quality, Creativity and Ethical values in our business.\\nAchieve leadership in all categories of our core business and diversify in areas which complement the core business.\\nProvide products and services that meet customers’ requirements, expectations and agreements relating to all aspects of Tapal Integrated Management System.\\nContinually improve the effectiveness and performance of the Quality, Health, Safety, Environment, Food Safety and IS Management system.\\nJoin Tapal Today!\\nGet In Touch With Us\\n',\n",
       " 'Discover a Whole New world OF\\nTaste, Aroma & Flavour\\nABOUT TAPAL\\n\\nWelcome to Tapal Tea!\\nWith every brand of Tapal discover a whole new world of taste, aroma, flavour, which will certainly make you fall in love with every sip.\\nLearn more about us\\n Trust\\nAll our practices take root in trust, integrity, and commitment, none of which we will compromise.\\n Quality\\nWe strive to excel in all our undertakings, and deliver excellence to our consumers too.\\n Creativity\\nWe encourage lateral thinking, and are receptive to fresh concepts.\\nOur Brands\\nTapal Tea brands are sold throughout the country in some ,+ retail stores, and marketed internationally\\nTapal produces various popular and high quality brands of tea that are distributed across the length and breadth of the country through a network of distribution/institutions.\\nView all Brands\\nTapal Chenak\\nPiyar Karun Warunjee Chah (A tea for those who love)\\nTapal Chenak is a brand specifically catered to the needs of the people of Tharparkar and the geography of Thar necessitates a sense of longing. Anticipation, yearning to re unite with loved ones, and the beauty of the sweet re union are attributes that Tapal Chenak thrives on.\\nTapal GulBahar\\nKashmiri aur Sabz Chai dono banai!\\nGulbahar, the oldest green tea brand, was launched by Tapal in  to especially cater to its northern market where “Sabz Chai or Qahwa” and “Kashmiri Chai” is very popular. It is available in sachets of 35g and hard packs of 90g in the market\\nTapal Green Tea\\nKhaanay kay baad, Tapa Green Tea Please.\\nTapal Green Tea is blended to perfection using the finest green tea leaves and specially selected natural ingredients & flavors, to create the perfect harmony of taste and aroma. Each teabag is individually packed so the freshness of Tapal Green Tea’s Natural Ingredients remains intact.\\nTapal Special\\nPiyar Karun Warunji Chah (A tea for those who love)\\nTapal Family Mixture was the first brand of the Tapal Tea Company. Family Mixture originated from a small shop in Jodia Bazar and is now one of the most popular brands in Karachi.\\nTapal Danedar 3 in 1\\nTruly yours\\nTapal Danedar 3 in 1 Instant Tea promises the same great taste, color and aroma associated with Tapal Danedar combined with the enticing flavor of Elaichi.\\nTapal Danedar\\nTum, Mein Aur Ek Cup Chai\\nTapal Danedar has long maintained its reputation of having a unique blend. As Pakistan’s first Danedar brand, Tapal Danedar has proved to be the first choice of tea connoisseurs across the country.\\nTapal Family Mixture\\nMeri Family, Meri Strength\\nTapal Family Mixture was the first brand of the Tapal Tea Company. Family Mixture originated from a small shop in Jodia Bazar and is now one of the most popular brands in Karachi.\\nTapal Tezdum\\nLagay Tha Ker Ke\\nTapal Tezdum is a blend of high grown Kenyan primary leaf grades, which are carefully selected for their distinct flavor and bright golden rich color. The blend is specially designed to guarantee a faster infusion with a quick brewing time for a rich and strong taste.\\nTapal Mezban\\nMezbani jo raaz (the secret of hospitality)\\nTapal Mezban has been known as the premium dust tea brand that understands and reflects the true essence of Sindhi culture and hospitality. Through its unmatchable and distinct flavour, it has consistently delivered its promise as the thriving market leader in the tea dust category.\\nTapal Chenak\\nPiyar Karun Warunjee Chah (A tea for those who love)\\nTapal Chenak is a brand specifically catered to the needs of the people of Tharparkar and the geography of Thar necessitates a sense of longing. Anticipation, yearning to re unite with loved ones, and the beauty of the sweet re union are attributes that Tapal Chenak thrives on.\\nTapal GulBahar\\nKashmiri aur Sabz Chai dono banai!\\nGulbahar, the oldest green tea brand, was launched by Tapal in  to especially cater to its northern market where “Sabz Chai or Qahwa” and “Kashmiri Chai” is very popular. It is available in sachets of 35g and hard packs of 90g in the market\\nTapal Green Tea\\nKhaanay kay baad, Tapa Green Tea Please.\\nTapal Green Tea is blended to perfection using the finest green tea leaves and specially selected natural ingredients & flavors, to create the perfect harmony of taste and aroma. Each teabag is individually packed so the freshness of Tapal Green Tea’s Natural Ingredients remains intact.\\nTapal Special\\nPiyar Karun Warunji Chah (A tea for those who love)\\nTapal Family Mixture was the first brand of the Tapal Tea Company. Family Mixture originated from a small shop in Jodia Bazar and is now one of the most popular brands in Karachi.\\nTapal Danedar 3 in 1\\nTruly yours\\nTapal Danedar 3 in 1 Instant Tea promises the same great taste, color and aroma associated with Tapal Danedar combined with the enticing flavor of Elaichi.\\nTapal Danedar\\nTum, Mein Aur Ek Cup Chai\\nTapal Danedar has long maintained its reputation of having a unique blend. As Pakistan’s first Danedar brand, Tapal Danedar has proved to be the first choice of tea connoisseurs across the country.\\nTapal Family Mixture\\nMeri Family, Meri Strength\\nTapal Family Mixture was the first brand of the Tapal Tea Company. Family Mixture originated from a small shop in Jodia Bazar and is now one of the most popular brands in Karachi.\\nTapal Tezdum\\nLagay Tha Ker Ke\\nTapal Tezdum is a blend of high grown Kenyan primary leaf grades, which are carefully selected for their distinct flavor and bright golden rich color. The blend is specially designed to guarantee a faster infusion with a quick brewing time for a rich and strong taste.\\nTapal Mezban\\nMezbani jo raaz (the secret of hospitality)\\nTapal Mezban has been known as the premium dust tea brand that understands and reflects the true essence of Sindhi culture and hospitality. Through its unmatchable and distinct flavour, it has consistently delivered its promise as the thriving market leader in the tea dust category.\\nTapal Chenak\\nPiyar Karun Warunjee Chah (A tea for those who love)\\nTapal Chenak is a brand specifically catered to the needs of the people of Tharparkar and the geography of Thar necessitates a sense of longing. Anticipation, yearning to re unite with loved ones, and the beauty of the sweet re union are attributes that Tapal Chenak thrives on.\\n‹\\n›\\nRecent TVCs\\nLatest Events & News\\nMAR\\n17\\n#BreakTheBias\\nOur leadership team pledges to #Breakthebias not just today but every day! #iwd2022 #breakthebias\\nMAR\\n17\\nInternation Women’s Day\\nDiversity and inclusion is a core belief of our leadership in Tapal. “I will actively help spread more awareness around the phenomenon of unconscious bias” #iwd2022 #breakthebias\\nMAR\\n17\\nDiverse & Inclusive Culture at Tapal\\nDiversity and inclusion is a core belief of our leadership in Tapal. “I will ensure women are given equal opportunities in sales roles” #iwd2022 #breakthebias\\nMAR\\n17\\nMyth Buster Series #2\\nThis Women’s Day Tapal helps debunk the myths surrounding women in the workplace! “At Tapal I was able to challenge the notion that women cannot succeed in a field based […]\\nMAR\\n17\\nInternational Women’s Day\\nThis International Women’s Day we celebrated with our esteemed guestHalima Iqbal, founder of Oraan Committee, the first digital committee platform led by Women for Women, andSyeda Sadaf Shah, First Female […]\\nMAR\\n17\\nHappy International Women’s Day\\n“In Tapal out teams come together to break the biases to create an inclusive culture” #iwd2022 #breakthebias\\nMAR\\n17\\n#BreakTheBias\\nOur leadership team pledges to #Breakthebias not just today but every day! #iwd2022 #breakthebias\\nMAR\\n17\\nInternation Women’s Day\\nDiversity and inclusion is a core belief of our leadership in Tapal. “I will actively help spread more awareness around the phenomenon of unconscious bias” #iwd2022 #breakthebias\\nMAR\\n17\\nDiverse & Inclusive Culture at Tapal\\nDiversity and inclusion is a core belief of our leadership in Tapal. “I will ensure women are given equal opportunities in sales roles” #iwd2022 #breakthebias\\nMAR\\n17\\nMyth Buster Series #2\\nThis Women’s Day Tapal helps debunk the myths surrounding women in the workplace! “At Tapal I was able to challenge the notion that women cannot succeed in a field based […]\\nMAR\\n17\\nInternational Women’s Day\\nThis International Women’s Day we celebrated with our esteemed guestHalima Iqbal, founder of Oraan Committee, the first digital committee platform led by Women for Women, andSyeda Sadaf Shah, First Female […]\\nMAR\\n17\\nHappy International Women’s Day\\n“In Tapal out teams come together to break the biases to create an inclusive culture” #iwd2022 #breakthebias\\n‹\\n›\\nLife at Tapal\\nTapal Tea is the largest fully Pakistani-owned tea company in Pakistan. The company employs around + people in its two factories, with a leading market share of over 50 percent. The Management and the Employees of Tapal Tea (Private) Limited is committed to:\\nSatisfy our stakeholders and be a benchmark for Quality, Creativity and Ethical values in our business.\\nAchieve leadership in all categories of our core business and diversify in areas which complement the core business.\\nProvide products and services that meet customers’ requirements, expectations and agreements relating to all aspects of Tapal Integrated Management System.\\nContinually improve the effectiveness and performance of the Quality, Health, Safety, Environment, Food Safety and IS Management system.\\nJoin Tapal Today!\\nGet In Touch With Us\\n',\n",
       " 'Discover a Whole New world OF\\nTaste, Aroma & Flavour\\nABOUT TAPAL\\n\\nWelcome to Tapal Tea!\\nWith every brand of Tapal discover a whole new world of taste, aroma, flavour, which will certainly make you fall in love with every sip.\\nLearn more about us\\n Trust\\nAll our practices take root in trust, integrity, and commitment, none of which we will compromise.\\n Quality\\nWe strive to excel in all our undertakings, and deliver excellence to our consumers too.\\n Creativity\\nWe encourage lateral thinking, and are receptive to fresh concepts.\\nOur Brands\\nTapal Tea brands are sold throughout the country in some ,+ retail stores, and marketed internationally\\nTapal produces various popular and high quality brands of tea that are distributed across the length and breadth of the country through a network of distribution/institutions.\\nView all Brands\\nTapal Chenak\\nPiyar Karun Warunjee Chah (A tea for those who love)\\nTapal Chenak is a brand specifically catered to the needs of the people of Tharparkar and the geography of Thar necessitates a sense of longing. Anticipation, yearning to re unite with loved ones, and the beauty of the sweet re union are attributes that Tapal Chenak thrives on.\\nTapal GulBahar\\nKashmiri aur Sabz Chai dono banai!\\nGulbahar, the oldest green tea brand, was launched by Tapal in  to especially cater to its northern market where “Sabz Chai or Qahwa” and “Kashmiri Chai” is very popular. It is available in sachets of 35g and hard packs of 90g in the market\\nTapal Green Tea\\nKhaanay kay baad, Tapa Green Tea Please.\\nTapal Green Tea is blended to perfection using the finest green tea leaves and specially selected natural ingredients & flavors, to create the perfect harmony of taste and aroma. Each teabag is individually packed so the freshness of Tapal Green Tea’s Natural Ingredients remains intact.\\nTapal Special\\nPiyar Karun Warunji Chah (A tea for those who love)\\nTapal Family Mixture was the first brand of the Tapal Tea Company. Family Mixture originated from a small shop in Jodia Bazar and is now one of the most popular brands in Karachi.\\nTapal Danedar 3 in 1\\nTruly yours\\nTapal Danedar 3 in 1 Instant Tea promises the same great taste, color and aroma associated with Tapal Danedar combined with the enticing flavor of Elaichi.\\nTapal Danedar\\nTum, Mein Aur Ek Cup Chai\\nTapal Danedar has long maintained its reputation of having a unique blend. As Pakistan’s first Danedar brand, Tapal Danedar has proved to be the first choice of tea connoisseurs across the country.\\nTapal Family Mixture\\nMeri Family, Meri Strength\\nTapal Family Mixture was the first brand of the Tapal Tea Company. Family Mixture originated from a small shop in Jodia Bazar and is now one of the most popular brands in Karachi.\\nTapal Tezdum\\nLagay Tha Ker Ke\\nTapal Tezdum is a blend of high grown Kenyan primary leaf grades, which are carefully selected for their distinct flavor and bright golden rich color. The blend is specially designed to guarantee a faster infusion with a quick brewing time for a rich and strong taste.\\nTapal Mezban\\nMezbani jo raaz (the secret of hospitality)\\nTapal Mezban has been known as the premium dust tea brand that understands and reflects the true essence of Sindhi culture and hospitality. Through its unmatchable and distinct flavour, it has consistently delivered its promise as the thriving market leader in the tea dust category.\\nTapal Chenak\\nPiyar Karun Warunjee Chah (A tea for those who love)\\nTapal Chenak is a brand specifically catered to the needs of the people of Tharparkar and the geography of Thar necessitates a sense of longing. Anticipation, yearning to re unite with loved ones, and the beauty of the sweet re union are attributes that Tapal Chenak thrives on.\\nTapal GulBahar\\nKashmiri aur Sabz Chai dono banai!\\nGulbahar, the oldest green tea brand, was launched by Tapal in  to especially cater to its northern market where “Sabz Chai or Qahwa” and “Kashmiri Chai” is very popular. It is available in sachets of 35g and hard packs of 90g in the market\\nTapal Green Tea\\nKhaanay kay baad, Tapa Green Tea Please.\\nTapal Green Tea is blended to perfection using the finest green tea leaves and specially selected natural ingredients & flavors, to create the perfect harmony of taste and aroma. Each teabag is individually packed so the freshness of Tapal Green Tea’s Natural Ingredients remains intact.\\nTapal Special\\nPiyar Karun Warunji Chah (A tea for those who love)\\nTapal Family Mixture was the first brand of the Tapal Tea Company. Family Mixture originated from a small shop in Jodia Bazar and is now one of the most popular brands in Karachi.\\nTapal Danedar 3 in 1\\nTruly yours\\nTapal Danedar 3 in 1 Instant Tea promises the same great taste, color and aroma associated with Tapal Danedar combined with the enticing flavor of Elaichi.\\nTapal Danedar\\nTum, Mein Aur Ek Cup Chai\\nTapal Danedar has long maintained its reputation of having a unique blend. As Pakistan’s first Danedar brand, Tapal Danedar has proved to be the first choice of tea connoisseurs across the country.\\nTapal Family Mixture\\nMeri Family, Meri Strength\\nTapal Family Mixture was the first brand of the Tapal Tea Company. Family Mixture originated from a small shop in Jodia Bazar and is now one of the most popular brands in Karachi.\\nTapal Tezdum\\nLagay Tha Ker Ke\\nTapal Tezdum is a blend of high grown Kenyan primary leaf grades, which are carefully selected for their distinct flavor and bright golden rich color. The blend is specially designed to guarantee a faster infusion with a quick brewing time for a rich and strong taste.\\nTapal Mezban\\nMezbani jo raaz (the secret of hospitality)\\nTapal Mezban has been known as the premium dust tea brand that understands and reflects the true essence of Sindhi culture and hospitality. Through its unmatchable and distinct flavour, it has consistently delivered its promise as the thriving market leader in the tea dust category.\\nTapal Chenak\\nPiyar Karun Warunjee Chah (A tea for those who love)\\nTapal Chenak is a brand specifically catered to the needs of the people of Tharparkar and the geography of Thar necessitates a sense of longing. Anticipation, yearning to re unite with loved ones, and the beauty of the sweet re union are attributes that Tapal Chenak thrives on.\\n‹\\n›\\nRecent TVCs\\nLatest Events & News\\nMAR\\n17\\n#BreakTheBias\\nOur leadership team pledges to #Breakthebias not just today but every day! #iwd2022 #breakthebias\\nMAR\\n17\\nInternation Women’s Day\\nDiversity and inclusion is a core belief of our leadership in Tapal. “I will actively help spread more awareness around the phenomenon of unconscious bias” #iwd2022 #breakthebias\\nMAR\\n17\\nDiverse & Inclusive Culture at Tapal\\nDiversity and inclusion is a core belief of our leadership in Tapal. “I will ensure women are given equal opportunities in sales roles” #iwd2022 #breakthebias\\nMAR\\n17\\nMyth Buster Series #2\\nThis Women’s Day Tapal helps debunk the myths surrounding women in the workplace! “At Tapal I was able to challenge the notion that women cannot succeed in a field based […]\\nMAR\\n17\\nInternational Women’s Day\\nThis International Women’s Day we celebrated with our esteemed guestHalima Iqbal, founder of Oraan Committee, the first digital committee platform led by Women for Women, andSyeda Sadaf Shah, First Female […]\\nMAR\\n17\\nHappy International Women’s Day\\n“In Tapal out teams come together to break the biases to create an inclusive culture” #iwd2022 #breakthebias\\nMAR\\n17\\n#BreakTheBias\\nOur leadership team pledges to #Breakthebias not just today but every day! #iwd2022 #breakthebias\\nMAR\\n17\\nInternation Women’s Day\\nDiversity and inclusion is a core belief of our leadership in Tapal. “I will actively help spread more awareness around the phenomenon of unconscious bias” #iwd2022 #breakthebias\\nMAR\\n17\\nDiverse & Inclusive Culture at Tapal\\nDiversity and inclusion is a core belief of our leadership in Tapal. “I will ensure women are given equal opportunities in sales roles” #iwd2022 #breakthebias\\nMAR\\n17\\nMyth Buster Series #2\\nThis Women’s Day Tapal helps debunk the myths surrounding women in the workplace! “At Tapal I was able to challenge the notion that women cannot succeed in a field based […]\\nMAR\\n17\\nInternational Women’s Day\\nThis International Women’s Day we celebrated with our esteemed guestHalima Iqbal, founder of Oraan Committee, the first digital committee platform led by Women for Women, andSyeda Sadaf Shah, First Female […]\\nMAR\\n17\\nHappy International Women’s Day\\n“In Tapal out teams come together to break the biases to create an inclusive culture” #iwd2022 #breakthebias\\n‹\\n›\\nLife at Tapal\\nTapal Tea is the largest fully Pakistani-owned tea company in Pakistan. The company employs around + people in its two factories, with a leading market share of over 50 percent. The Management and the Employees of Tapal Tea (Private) Limited is committed to:\\nSatisfy our stakeholders and be a benchmark for Quality, Creativity and Ethical values in our business.\\nAchieve leadership in all categories of our core business and diversify in areas which complement the core business.\\nProvide products and services that meet customers’ requirements, expectations and agreements relating to all aspects of Tapal Integrated Management System.\\nContinually improve the effectiveness and performance of the Quality, Health, Safety, Environment, Food Safety and IS Management system.\\nJoin Tapal Today!\\nGet In Touch With Us\\n',\n",
       " 'About Us\\nAbout Us\\nFor three generations, Tapal Tea has consistently ensured to offer consumers across Pakistan and around the world the distinct Tapal flavor developed by blending premium tea leaves; handpicked from select gardens in the world.\\nOur Purpose\\nTapal Tea is the market leader of branded tea in Pakistan. We are guided by our values and principles to bring calmness and relaxation in the lives of our consumers through our aromatic and flavorful teas. By keeping a close watch on the likes and preferences of our consumers, we have constantly enhanced our range of tea brands that cater to varying requirements and tastes of our consumers who belong to all ages and live in different regions of the world. The finest blends of Tapal have gathered the world around our cup of tea.\\nThe company was founded in  and we started our operations by importing tea from Sri Lanka (then Ceylon). Soon after Tapal introduced its pioneering brand Family Mixture, which still is regarded the preferred tea brand for families in the market. Tapal ventured into exports when we introduced our teas in the Saudi Arabia market. Now Tapal has made its mark in 6 continents and over 15 countries across North and South America, Asia, Europe and Africa.\\nOur market leading status is backed by a strong research and development unit, which works arduously and supports the operations unit by developing new and innovative tea grades at its Tapal Tea Lab.\\nToday, millions of consumers across Pakistan and around the world are obsessed with Tapal Tea brands, for whom our teas have become an essential and integral part of their lives. Our promise to our consumers is to continue enriching their lives by maintaining our high standards and constantly introducing more innovative variants of teas in future.\\nOur Legacy\\n\\nFounded by Adam Ali Tapal.\\nIt started out as a retail outlet in Jodia Bazaar.\\n\\nIntroduction to Tapal Family Mixture\\n\\nTurnover of 0.5m kg\\n\\nBuilt its first Factory / Warhouse\\n\\nMechanized Blending\\n\\nImported the first packaging machine\\n\\nTurnover of 1.5m kg\\n\\nIntroduction of Chenak Dust\\n\\nFirst distributor appointed\\n\\nIntroduction of Tapal Danedar\\n\\nIntroduction of Mezban Dust\\n\\nIntroduction of Gulbahar\\n\\nRegional Office in Lahore was set up\\n\\nTapal Green Tea launched as the first range of flavoured teas in the country\\n\\nShinkiari Tea Plantation was launched\\n\\nIntroduction of Tezdum\\n‹\\n›\\nOffices & Factories\\n',\n",
       " 'Awards\\nPakistan Advertising Society (PAS) Award - Hot Beverages Category\\nTapal Chenak Dustwon the award for its breakthrough campaign ‘Pyar Karan Waaran Ji Chaah\\n (Pyar Karne Walo Ki Chai). The 65-second ad communicated a sense of longing, represented by the wait for a loved one, as well as refreshing rain. It is this wait that makes the eventual reunion beautiful and Chenak Dust completes the moment. Difficult conditions and daily hardships make such small daily occasions even more special. It is this emotion that was communicated in the Chenak Dust ad, with its colorful visuals resonating well with target consumers.\\nPakistan Advertisers Society () – Hot Beverages\\nIn , Tapal Danedar was bestowed with the prestigious award for the previous year’s recurring campaign, “Har Mizaaj se Aashna”. The core idea behind the campaign was to promote selfless acts of human kindness triggered by a hot cup of Tapal Tea.\\nPakistan Advertisers Society () – Campaign of the Year\\nThe manifesto of the prestigious PAS Awards is to acknowledge and honor ‘creativity idea and strategy that works’ and these were clearly the core feature of the winning Tapal Danedar campaign, Har Mizaj se Aashna. The campaign showed focus on four friends at a committee tea, and how Tapal Danedar played an important role in unearthing the inherent goodness of the ladies\\nAll Pakistan Newspaper Society (APNS) Award - Best Print Advertisement\\nTapal Corporate –The APNS award for the best print advertisement for concept and copy added to Tapal’s growing list of accolades. The award winning print advertisement celebrates the spirit of the nation demonstrated in the face of the devastating  floods. The Print campaign also paid rich tribute to the armed forces of the nation who played an important role in reaching out to the displaced and affected people.\\nAurora Awards  – Best Electronic Media, Television\\nWinner Tapal Tezdum “Lagey Thaa Kar Key” and Honorable mention Tapal Family Mixture “Laagey Na Nazar”.\\nAurora’s “Red Hot Brands” May  Issue\\nRecognized Tapal Danedar as one of the fastest growing brands, which, through innovative means created a niche for itself by offering a product with a tangible benefit or dana, which no tea company had done before.\\nGet In Touch With Us\\n',\n",
       " 'Board Of Directors\\nAftab Tapal\\nChairman\\nAftab Tapal is the third generation of the Tapal family and the current Chairman of the company. After completing his degree in Marketing with Associates in Applied Sciences from USA, Aftab returned to join the family business in . While managing the day to day operations of the company, Aftab embarked upon a journey which was based on the principles of fair, honest and differentiated business practice. This journey has provided an admirable work culture and a Corporate Brand which has acquired the recognition of being market leader in its respective category of business.\\nMehvish Tapal\\nDirector\\nMehvish Tapal is the 4th generation of the Tapal family and a Director in the company. Mehvish joined the family business immediately after graduating with Honors degree from Imperial College London. Mehvish has served various job rotations covering HR, Marketing and Supply Chain. Her prime area of interest includes Brand Innovation and Business Management.\\nKumail Tapal\\nDirector – International\\nMr. Kumail Tapal is the fourth generation of Tapal Family and a Director in the company. After graduating from UK with International Business, Kumail joined Tapal Tea in . Kumail has served several job rotations in the company including International Markets, Finance and Tea Supply Chain. His prime areas of interest includes Tea Supply Chain and International Business Development.\\nMaria Tapal\\nBoard Member\\nMaria Tapal is the 4th generation of the Tapal Tea Pvt Ltd family. After finishing her BSc in Management and Psychology from University of Toronto she joined James Finlays UK to be trained in the art of tea tasting and trading.\\nSince then she has been actively involved in managing the Tapal Family Office and its investments and participating on the Tapal Tea board as an active Board Member.\\nSamar Hayat\\nChief Executive Officer\\nSamar has around 20 years of rich & diversified experience in the FMCG industry, having worked on progressive brands in Pakistan, Arabian Peninsula, India & Africa. He launched his career in Pakistan with Procter & Gamble in  and held various leadership positions within P&G. During his tenure with P&G he led giant global brands such as Ariel, Pampers, Gillette, Head & Shoulders and Pantene in his area of responsibility. His last role before joining Tapal Tea was Commercial Leader & Brands Director – Hair Care, Shave Care, Feminine Care, Oral Care, Beauty Care – Arabian Peninsula at Procter & Gamble based out of Dubai, UAE.\\nAmjad Ahmad\\nBoard Advisor\\nAmjad Ahmad has 25 years of experience in private equity, venture capital and investment banking. He has invested in and advised over 50 companies and actively helped them to develop and grow. He served on boards in various industries including consumer products, education, finance, healthcare and technology. He is currently the Managing Partner of Precinct Partners, a venture capital firm. Amjad earned a Master in International Affairs from Columbia University and a Bachelor of Business Administration from Hofstra University. He is a graduate of the General Management Program at Harvard Business School and is a Certified Public Accountant.\\nGet In Touch With Us\\n',\n",
       " 'Brands\\nTapal Danedar\\nTum, Mein Aur Ek Cup Chai\\nTapal Danedar has long maintained its reputation of having a unique blend which has made it the market leader and innovator within the tea category. As Pakistan’s first Danedar brand, Tapal Danedar has proved to be the first choice of tea connoisseurs across the country.\\nTapal Family Mixture\\nMeri Family, Meri Strength\\nTapal Family Mixture was the first brand of the Tapal Tea Company. Family Mixture originated from a small shop in Jodia Bazar and is now one of the most popular brands in Karachi.\\nTapal Tezdum\\nLagay Tha Ker Ke\\nTapal Tezdum is a blend of high grown Kenyan primary leaf grades, which are carefully selected for their distinct flavor and bright golden rich color. The blend is specially designed to guarantee a faster infusion with a quick brewing time for a rich and strong taste.\\nTapal Mezban\\nMezbani jo raaz (the secret of hospitality)\\nTapal Mezban has been known as the premium dust tea brand that understands and reflects the true essence of Sindhi culture and hospitality. Through its unmatchable and distinct flavour, it has consistently delivered its promise as the thriving market leader in the tea dust category.\\nTapal Chenak\\nPiyar Karun Warunjee Chah (A tea for those who love)\\nTapal Chenak is a brand specifically catered to the needs of the people of Tharparkar and the geography of Thar necessitates a sense of longing. Anticipation, yearning to re unite with loved ones, and the beauty of the sweet re union are attributes that Tapal Chenak thrives on.\\nTapal GulBahar\\nKashmiri aur Sabz Chai dono banai!\\nTapal Gulbahar Tea is the pioneer brand in the green tea segment. It was launched in  to primarily target consumers in the northern market where “Sabz Chai or Qahwa” and “Kashmiri Chai” is hugely popular. With time it’s popularity and reach has grown and it’s the No. 1 green tea brand across the country.\\nTapal Green Tea\\nKhaanay kay baad, Tapa Green Tea Please.\\nTapal Green Tea is blended to perfection using the finest green tea leaves and specially selected natural ingredients & flavors, to create the perfect harmony of taste and aroma. Each teabag is individually packed so the freshness of Tapal Green Tea’s Natural Ingredients remains intact.\\nTapal Special\\nPiyar Karun Warunji Chah (A tea for those who love)\\nTapal Family Mixture was the first brand of the Tapal Tea Company. Family Mixture originated from a small shop in Jodia Bazar and is now one of the most popular brands in Karachi.\\nTapal Danedar 3 in 1\\nTruly yours\\nTapal’s latest offering in the market, “Tapal Danedar 3 in 1 Instant Tea with Elaichi” promises the same great taste, color and aroma associated with Tapal Danedar combined with the tantalizing flavor of Elaichi. It’s currently available in Karachi, Lahore, Rawalpindi & Islamabad.\\nGet In Touch With Us\\n',\n",
       " 'Tapal Chenak\\nT\\nThis saffron colored pack is the leading brand in the value segment of dust tea with the product attributes that are articulated specifically to serve the people of Tharparkar in the district of Sindh. Tapal Chenak was launched in  and was the pioneer in the branded dust tea segment of the market. It offers its consumers a strong cup of tea at an affordable price and has unfolded into the most admirable tea brand for the people living in these remote areas.\\nPiyar Karun Warunji Chah (A tea for those who love)\\nTapal Chenak is a brand specifically inculcated for the needs of the people of Tharparkar and the geography of Thar giving it a sense of longing. The anticipation, yearning to re-unite with loved ones, and the beauty of the sweet reunion are attributes that Tapal Chenak thrives on and has been consistently doing that.\\nIt emulates strong, aromatic, and a flavorful cup of tea with just the perfect blend and color which is what Tapal Chenak has to offer. It consists of just the right blend, with attributes like quick liquoring and more cuppage with great value for money make it a preferred choice for the consumer in all segments.\\nTapal Chenak has been awarded with the prestigious PAS Award  for the Best Campaign – Hot Beverage.\\n',\n",
       " '\\nTapal Chenak\\nThis saffron colored pack is the leading brand in the value segment of dust tea with the product attributes that are articulated specifically to serve the people of Tharparkar in the district of Sindh. Tapal Chenak was launched in  and was the pioneer in the branded dust tea segment of the market. It offers its consumers a strong cup of tea at an affordable price and has unfolded into the most admirable tea brand for the people living in these remote areas.\\nPiyar Karun Warunji Chah (A tea for those who love)\\nRecent TVC Campaigns\\nTapal Chenak is a brand specifically inculcated for the needs of the people of Tharparkar and the geography of Thar giving it a sense of longing.The anticipation, yearning to re-unite with loved ones, and the beauty of the sweet reunion are attributes that Tapal Chenak thrives on and has been consistently doing that.\\nIt emulates strong, aromatic, and a flavorful cup of tea with just the perfect blend and color which is what Tapal Chenak has to offer. It consists of just the right blend, with attributes like quick liquoring and more cuppage with great value for money make it a preferred choice for the consumer in all segments.\\nTapal Chenak has been awarded with the prestigious PAS Award  for the Best Campaign – Hot Beverage.\\nGet In Touch With Us\\n',\n",
       " 'Tapal Danedar 3 in 1\\nTapal’s latest offering in the market, “Tapal Danedar 3 in 1 Instant Tea with Elaichi” promises the same great taste, color and aroma associated with Tapal Danedar combined with the tantalizing flavor of Elaichi. It’s currently available in Karachi, Lahore, Rawalpindi & Islamabad.\\nTruly yours!\\n‘’Tapal Danedar 3 in 1 Instant Tea with Elaichi” is the result of extensive and elaborate research by Tapal Tea, who have used their deep understanding of Pakistani consumers to bring this special innovative Elaichi variant. This unique flavor been created by the perfect fusion of superior quality cardamom flavor to the Tapal Danedar blend.\\nTapal Danedar 3 in 1 Instant Tea offers consistent quality and flavorful taste along with the convenience to those tea lovers who desire for a perfect cup of tea multiple times a day, and will certainly fall in love with this one with every sip they consume. So, you can have it anytime, anywhere at your convenience as it is surely your taste on the go.\\nGet In Touch With Us\\n',\n",
       " 'Tapal Danedar\\nThe name “Danedar” essentially means “granules” or “danas”, referring to the premium quality blend that Kenyan tea leaves provide. It’s distinct taste, aroma and rich color has made it a nationwide bestseller, having gained the privilege of receiving the PAS Award for two consecutive years, in  and  for the campaign “Har Mizaj Se Ashna” in the “Hot Beverages” category.\\nTum Mein Or Ek Cup Chai!\\nTapal Danedar has maintained its reputation ever since it was introduced in  and has been massively popular for having the unique blend which has made this prestigious product its on niche and the leader in the tea category and the first to do so. To find out more about Tapal Daneadar\\nTapal Daneadar represents the intimate moments that are shared without a word just over a simple cup of tea. Tapal Daneadar is proud of its accordant pursuit in providing its consumers the taste that has become a part of every household. Its taste and quality have never been compromised for over 30 years and is still executing that attribute to its ultimate potential. It is the country’s no. 1 choice of tea for a reason and it ties them to the message we emulate constantly!\\nTapal Daneadar relish their leadership position in the Tapal portfolio and the brand believes in catering to the needs of all its consumers, comprising of different income segments. From its single serving sachet users to its household consumption pack users they have provided the quality and quantity along with being economically feasible for every consumer in their target market.\\nToday, the Danedar family embraces its multiple stock keeping units including hard packs, sachets, pouches, a high utility jar and a range of innovative tea-bags offering our praised and trusted customers the required level of convenience.\\nWhether it is your stimulant cup of morning tea or a fun gathering with friends and family, Tapal Danedar promises to be your perfect cup of tea making your experience more intimate.\\n',\n",
       " 'Tapal Family Mixture\\nTapal Family Mixture was the first brand of the Tapal Tea Company that originated its roots from a small shop in Jodia Bazar in  to being one of the most prestigious family-oriented tea brands in the tea market right now. Find out more about Tapal Family Mixture\\nMeri Family, Meri Strength!\\nRecent TVC Campaigns\\nThe brand emulates and revolves around the perfect blend of tea for the complete family and how it makes having tea an experience for the whole family, together. It makes the concept of sitting and spending time with the family over a cup of tea more intimate and special. It also complements the woman of the house who plays a pivotal role in homemaking and binds a family together.\\nIt is the pioneer in the mixture tea company category, the blend of the dust makes the tea color more eminent and the leaf brings out the taste more, which makes the Tapal Family Mixture into what it’s majorly known as. Family Mixture is the choice of every home maker who is looking for good value-added tea products and for an efficient budget that gives you quality and value for money in the tea brand that you consume.\\nGet In Touch With Us\\n',\n",
       " 'Tapal Gulbahar\\nTapal Gulbahar Tea is the pioneer brand in the green tea segment. It was launched in  to primarily target consumers in the northern market where “Sabz Chai or Qahwa” and “Kashmiri Chai” is hugely popular. With time it’s popularity and reach has grown and it’s the No. 1 green tea brand across the country.\\nKashmiri aur Sabz Chai dono banai!\\nTapal leveraged its experience and expertise in great tasting teas by creating a niche for itself in the green tea segment as well. The refreshing flavor and its excellent quality make Tapal Gulbahar Green Tea an essential part of every household who have a liking for Green Tea and Kashmiri Tea, and want good value for money.\\nThe essence of this brand is that it gives a strong sense of relaxation and warmth, and has a very soothing effect on the body. It’s blended to perfection with carefully selected green tea leaves and the flavor of fresh lemons. Tapal Gulbahar Green Tea is available in sachets of 35g and hard packs of 90g. Apart from the normal green tea, consumers have the choice to opt for delicious rose flavored green tea. It’s perfect for daily use.\\nGet In Touch With Us\\n',\n",
       " 'Tapal Mezban\\nSindh is famously known for its distinct culture, traditions and values. Tea will always be the beverage of choice when it comes to people of Pakistan and their loved ones. It encourages hospitality and unity and Mezban, which means “host”, quite literally stands by this message. It gives our consumers the chance to share a moment over a cup of the perfectly blended, aromatic and flavorful dust tea.\\nMezbani jo raaz (the secret of hospitality)\\nRecent TVC Campaigns\\nEver since its launch in , Mezban has been known as the premium dust tea brand that understands and reflects the true essence of Sindh and its culture and hospitality. Through its inimitable and distinct flavour, it has consistently delivered its promise as the thriving market leader in the tea dust category and has been very consistent ever since.\\nThe spirit of Sindh has been a source of inspiration and the heart of the brand throughout, with the famous Sindhi ajrak, which is a traditional “hand-woven cloth”, embellishing our product packaging. Mezban, being the heart of Sindh brings with it the cherished value of hospitality to life and a refreshing taste to consumers all across Sindh, setting itself as Sindh’s preferred choice of premium dust tea brand.\\nGet In Touch With Us\\n',\n",
       " 'Tapal Tezdum\\nTapal Tezdum has always been known for its distinctive strong taste and strong flavor and was launched in  and it soon became the popular brand choice amongst the consumers across Pakistan. Tapal Tezdum was re-launched again in  with its enhanced blend and clutter breaking purple and gold packaging.\\nLagay Tha Kar Ke!\\nRecent TVC Campaigns\\nThe brand emulates and revolves around the strong cup of tea that resonates greatness and courage to overcome any mind-boggling moments. It gives you the strength to move forward in life and excel in every personal endeavor. Tezdum’s strong, flavorful taste and rich color, its blend is crafted to deliver consumer satisfaction.\\nTapal Tezdum is a blend of high grown Kenyan primary leaf grades, which are carefully determined for their distinctive flavor and bright golden rich color. Tezdum’s blend is specially designed to guarantee a faster infusion with a quick brewing time for a rich and strong taste.\\nGet In Touch With Us\\n',\n",
       " 'Careers\\nView Open Positions\\nWorking at Tapal\\nWe, at Tapal, have operated for the last three generations to add goodness and calmness in our consumers’ lives and make them feel better and relaxed with our array of flavorful and aromatic teas. We also make sure to improve the quality of our teas, bring more enriched and innovative varieties, and increase the reach of our products worldwide.\\nWe are continually on the lookout for talented, young and dynamic individuals who share our purpose, and are willing to work out of their comfort zone to add value to our ways of working.\\nA management that fosters openness\\nThe Tapal management comprises of visionary individuals who believe in being the leaders and not the bosses. They encourage forward thinking, innovation and an entrepreneurial spirit among the team members, who are urged to voice their opinion and share their thoughts for the ultimate good of the company.\\nAn environment that drives performance\\nWhen you join Tapal, you can expect an enabling and pleasant yet result-oriented working environment that will enable you to deliver on your faculties and provide you with exceptional opportunities to learn, develop and grow professionally as well as on personal level. You will also become part of the Tapal culture that’s ingrained with our values of trust, quality, creativity, innovation, leadership and unity.\\nA team that breeds excellence\\nYou will become part of a talented and jovial team that believes in making workplace a fun place, and where the focus is always to help each other to realize the critical and combined goal of sustaining our leadership status in the tea industry and creating an indelible mark in the global market.\\nMake yourself count\\nThe growth of our business creates multiple opportunities across different departments. These career opportunities are advertised in newspapers and also posted on the job page of our website. You can also email us your CV that we will keep in our database and call you as soon as an opportunity that matches your qualification, skills and experience comes across.\\nCandidates who have just graduated can also send across their CV, and if they are able to demonstrate their passion and zeal to perform and contribute towards our vision, we may consider them for a position\\nStudents & Graduates\\nProviding exciting opportunities to our youth\\nTapal considers our youth as our future hope and the fulcrum of our sustained growth in the years and decades to come. We therefore offer various programs to young people during their student days as well as when they have freshly graduated from their educational institutes. These programs range from internships, graduate programs, and job opportunities specifically targeted for fresh graduates.\\nAll these programs are regularly posted on the job page of our website that will help young people to make a fulfilling start to their careers and create a mark for themselves in their professional lives.\\nDiversity & Inclusion (D&I)\\nEmbracing a diverse & inclusive work culture\\nWe believe that diversity & inclusion is integral to our success as our team members get an opportunity to learn from a diverse set of people who work around them and with them. We respect distinctiveness of each individual and select people purely on the basis of their talent and worth for the company, regardless of their race, gender, religious beliefs, culture or disability.\\nApply Now\\nView Open Positions\\n©  Tapal Tea. All Rights Reserved.\\nDesigned & Developed By AQMS Tech',\n",
       " 'info@tapaltea.com 021-35063891\\n\\nContact Us\\nGet In Touch With Us\\n\\nHead Office\\n\\nPlot 40, Sector15, Korangi Industrial Area,\\n Karachi – 74900, Pakistan.\\n\\nPhone: 021-35063891 (4 Lines)\\n\\n\\n\\nRaiwind Factory\\n\\n3 KM, Raiwind Manga Road,\\n Near Bashir Chowk, Industrial Area,\\n Raiwind-Lahore, Pakistan.\\n\\nPhone: 042-35398061-70\\n\\nSay Hello!\\nName*\\nEmail*\\nMessage*\\n© 2022 Tapal Tea. All Rights Reserved.\\n\\nDesigned & Developed By AQMS Tech',\n",
       " 'Corporate Social Responsibility\\nWith deep social and cultural roots in Pakistan, Tapal prides itself on being an active, socially responsible entity with initiatives in the fields of education, sports and medicine.\\nUnder the banner of its social welfare platform, Humqadam, Tapal strives to develop support systems for Pakistan’s infrastructure, and set a philanthropic example for others to follow. Some of our activities include:\\nBlood Donation Drive\\nDecemberIn December , Tapal hosted a blood donation drive at the Indus Hospital in Karachi, which is a tertiary care multidisciplinary hospital that was constructed in , for a noble cause supporting those in need, which yielded a turnout of  people. It was heart-warming to see such a large turnout of people willfully participating in a great cause like this.\\nThe Citizens Foundation Primary School – Tapal Campus\\nAugustTapal has been active in advocating the cause of education by establishing quality schools.\\nWith this vision in mind, Tapal joined hands with The Citizens Foundation (TCF) to build its own primary school campuses in rural Sindh to do its bit for promotion of quality education at the grassroots level in an environment that encourages intellectual, moral, and spiritual growth.\\nTCF, a professionally managed, not-for-profit organization set up in , is one of the country’s leading organizations in the field of formal education. The first unit of TCF Primary School – Tapal Campus, Hala, Sindh was made operational in August , and the second in August 2008with 31 per cent of female students as TCF follows all female faculty policy which encourages parents to send their daughters to schools.\\nGet In Touch With Us\\n',\n",
       " 'Management Team\\nSamar Hayat\\nChief Executive Officer\\nSamar has around 20 years of rich & diversified experience in the FMCG industry, having worked on progressive brands in Pakistan, Arabian Peninsula, India & Africa. He launched his career in Pakistan with Procter & Gamble in  and held various leadership positions within P&G. During his tenure with P&G he led giant global brands such as Ariel, Pampers, Gillette, Head & Shoulders and Pantene in his area of responsibility. His last role before joining Tapal Tea was Commercial Leader & Brands Director – Hair Care, Shave Care, Feminine Care, Oral Care, Beauty Care – Arabian Peninsula at Procter & Gamble based out of Dubai, UAE.\\nAnwar Nabi Dar\\nChief Sales Officer\\nAnwar Nabi Dar joined TAPAL in August of  – he holds an MBA degree from IBA and has 12 years of rich experience in the FMCG industry.\\nHe launched his career with Philip Morris Pakistan Limited in  and worked his way up to hold various Leadership Positions within and outside Pakistan. His last assignment was Sales Director- Pakistan at Philip Morris International.\\nHe is an expert in crafting strong business models, strengthening Go To Market operations, leveraging sales automation and digitization of various processes/platforms to provide an improved customer experience while enabling and delivering sustainable business growth.\\nImtiaz Jalil\\nChief Financing Officer\\nImtiaz is fellow member of Institute of Chartered Accountants of Pakistan and Association of Chartered Certified Accountants, UK, besides holding a certification in Internal Audit from the Institute of Internal Auditors, USA.\\nHe has 25 years of rich financial management and corporate governance experience for delivering accelerated and competitive organizational growth. He launched his career with Price Waterhouse Coopers (A. F. Ferguson & Co.) in  before moving to Unilever Pakistan Limited (). He worked his way up to hold various diversified Leadership Positions both locally and internationally. Before joining Tapal, he was associated with Pakistan State Oil Company Limited as Chief Financial Officer. He is also member of the Board and Board Audit Committee of Pakistan Refinery Limited as Independent Director.\\nSyeda Fatima Ahmad\\nHead of Regulatory Affairs & Company Secretary\\nFatima joined Tapal in . She is an LLB from Sindh Muslim Law College, LLM from university of Aberdeen. She has over 17 years of experience in the field of corporate law, having worked with Kabraji &Talibuddin, Shell Pakistan, PPL, Engro Foods Ltd (now Friesland Campina) Engro Corporation, and Inbox Business Technologies Limited. She also carries extensive experience as company secretary.\\nAmra Mubashir\\nGeneral Manager Human Resources\\nAmra Mubashir is a passionate and energetic HR professional having work experience of 15+ years with high profile multinational companies within FMCG, Telecommunication and Banking. She has had the opportunity to lead multi-cultural teams in all aspects of HR across Asia Pacific and Middle East in British American Tobacco and PepsiCo International. She specialises in developing practical and innovative HR strategies aligned with organisational needs. She has led Regional and Global initiatives on talent management, leadership development, talent acquisition and Diversity and Inclusion. She has also worked with Global Centre of Inclusion, USA on “DEI futures project” to reinvent, reimagine and retool D&I practices. She holds D&I certification from INSEAD business school.\\nMuhammad Asif\\nGeneral Manager Sales\\nMuhammad Asif leads a strong sales and distribution team at Tapal, concentrating on building business and strategizing business growth while ensuring Tapal Tea remains in the lead. He has 15+ years of diversified experience in Sales, Trade Marketing, Channel and Business Development in various industries like Tobacco, Telecom, FMCG and Beverages. Prior to this role, he has been associated with prestigious organizations like Phillip Morris, Ufone and Abudawood.\\nMohsin M. Saify\\nGeneral Manager Tea Supply Chain\\nMr. Mohsin M. Saify is a seasoned tea taster by profession, having experience of more than 30 years in the area of tea tasting and procurement. Completing his graduation from Karachi University, Mr. Saify has been associated with Tapal Tea (Private) Limited since .\\nMuhammad Shabbir\\nGeneral Manager Operations\\nShabbir has been part of Tapal for over 25 years and has worked in Supply Chain, Procurement, Quality and Production Operations. He leads the operations for Karachi & Lahore plants along with logistics nationwide. Among his most notable successes at Tapal are developing the roadmap for turnaround of Tapal Procurement and Operations functions, the induction of top of line solutions for packaging & production and the expansion of plants and warehouses.\\nPreviously he has held various roles with the leading MNCs like Bayer Pharma, Boots Pharmaceuticals, Gillette Pakistan and Bristol Myers Squibb, He holds a Master degree in Business Administration.\\nMobashir Ahmad Siddiqui\\nGeneral Manager Administration\\nMr. Mobashir Ahmed Siddiqui is an MBA in Human Resource Management. With a career that spans over 20 years, he has had the privilege of being trained and commissioned in the Pakistan Army for 12 engaging years. He is associated with Tapal since .\\nMuhammad Arsalan Khan\\nHead of Central Procurement\\nArsalan has been leading Central Procurement in Tapal since  . He has more than 13 years of strong & diversified experience in the field of Procurement & Supply chain.\\nHe developed his career in Unilever where he has led many regional roles across Africa, MiddleEast, South East Asia, Russia & Pakistan.\\nIn his last role with Unilever; he led successfully packaging, chemical & outsourcing strategy for the company.\\nGet In Touch With Us\\n',\n",
       " 'Research And Development\\nResearch and Development is at the heart of everything we do at Tapal and allows us to continuously innovate and delight our consumers. Our commitment to experiment and research until we develop the perfect blend sets Tapal Tea apart from the rest.\\nThe Tapal Tea Lab, a room of experts, is where the core research and development activity takes place which enables our experts to create unique blends, using a combination of different tea grades. Assorted teas are masterfully mixed in a drum right before packaging to retain consistent quality, flavor, and freshness. Our tea tasters test and evaluate various blends to ensure that you get consistently superior quality, every time.\\nGet In Touch With Us\\n',\n",
       " '#BreakTheBias\\nOur leadership team pledges to #Breakthebias not just today but every day!\\n#iwd2022 #breakthebias\\nView Post\\n©  Tapal Tea. All Rights Reserved.\\nDesigned & Developed By AQMS Tech',\n",
       " 'Diverse & Inclusive Culture at Tapal\\nDiversity and inclusion is a core belief of our leadership in Tapal.\\n“I will ensure women are given equal opportunities in sales roles”\\n#iwd2022 #breakthebias\\nView Post\\n©  Tapal Tea. All Rights Reserved.\\nDesigned & Developed By AQMS Tech',\n",
       " 'Happy International Women’s Day\\n“In Tapal out teams come together to break the biases to create an inclusive culture”\\n#iwd2022 #breakthebias\\nView Post\\n©  Tapal Tea. All Rights Reserved.\\nDesigned & Developed By AQMS Tech',\n",
       " 'Internation Women’s Day\\nDiversity and inclusion is a core belief of our leadership in Tapal.\\n “I will actively help spread more awareness around the phenomenon of unconscious bias”\\n #iwd2022 #breakthebias\\nView Post\\n©  Tapal Tea. All Rights Reserved.\\nDesigned & Developed By AQMS Tech',\n",
       " 'International Women’s Day\\nThis International Women’s Day we celebrated with our esteemed guestHalima Iqbal, founder of Oraan Committee, the first digital committee platform led by Women for Women, andSyeda Sadaf Shah, First Female drilling Engineer of Sindh. Both are success stories in their own fields. Their struggles and stories truly inspired us to#breakthebias\\nThe celebration also included a few activities to demonstrate workplace biases we face and how to break them together.\\n#iwd2022#breakthebias#Tapal\\nView Post\\n©  Tapal Tea. All Rights Reserved.\\nDesigned & Developed By AQMS Tech',\n",
       " 'Myth Buster Series #2\\nThis Women’s Day Tapal helps debunk the myths surrounding women in the workplace!\\n“At Tapal I was able to challenge the notion that women cannot succeed in a field based job”\\n-Nadia Ali (Key Account Executive)\\n#breakthebias#iwd2022\\nView Post\\n©  Tapal Tea. All Rights Reserved.\\nDesigned & Developed By AQMS Tech',\n",
       " 'Tea Culture\\nIn Pakistan, a cup of tea is so many things to so many people. It’s an invitation to chat, a chance to relax during a busy work day and an essential part of tradition of hospitality.\\nEach cup is prepared with pride and carefully presented, turning even a casual interaction into something special.\\nEvery family prepares a cup of tea in its own unique way. Some add equal measures of milk and water, and boil the mixture with tea leaves to create an aromatic brew called ‘doodh patti’ or ‘milk tea’. Others prepare it in a tea pot, pouring hot water over tea leaves to create a golden beverage which is then presented to guests in delicate tea cups. Many people prefer to use tea bags instead and prepare refreshing mugs of tea on the go. Sugar is added liberally to sweeten the taste of the country’s favorite beverage and milk is usually added as well.\\nTea also holds a starring role in the time honored tradition of welcoming guests. Whether it’s an office or a home, the first question the host asks a visitor is if they would like a cup of tea. When it comes to the penultimate occasion of arranging a ‘rishta’ or marriage, then good tea becomes symbolic of so much more – the bride’s domestic prowess, the tastes and social graces of the family and subsequent compatibility with the groom and his household.\\nIn fact every occasion, whether solitary or social is enhanced by a steaming cup of tea!\\nSo popular is the beverage in Pakistan, that about over 1 kg of it are utilized per capita every year, which is one of the highest rates of tea consumption in the world.\\nGet In Touch With Us\\n',\n",
       " 'Tea Fun Fact\\nYou can drink the world’s most expensive afternoon tea at theHong Kong Ritz Carlton for up to $8, dollars.\\nOne strong cup of tea is better than 20 weak ones. All true tea lovers not only like their tea strong, but like it a little stronger with each year that passes.\\nIn one day,an experienced tea picker can collect around 70 pounds of tea!That’s enough tea to make14, cups!\\nBoodles Jewelersmade a handcrafted diamondteabag worth $15, with  diamondsto raise money for a children’s charity in Manchester, England.\\nTea is 99% waterand can be counted as part of your required daily eight glasses of water.\\nWant to stay in the know?80% office workers discover what’s happening at work over a cup of tea.\\nThree glasses of sweet tea equalsix red apples.\\nGet In Touch With Us\\n',\n",
       " 'Values\\nTrust\\nAll our practices take root in trust, integrity, and commitment, none of which we will compromise.\\nQuality\\nWe strive to excel in all our undertakings, and deliver excellence to our consumers too.\\nCreativity\\nWe encourage lateral thinking, and are receptive to fresh concepts.\\nInnovation\\nWe promote the entrepreneurial spirit, and believe the key to progress is in boldly embracing change and fearlessly introducing novel concepts.\\nLeadership\\nNot only are we determined to be the best in our industry, we support each individual at Tapal in their journey to excellence too.\\nUnity\\nWe pursue a shared vision together, unifying and energizing all stakeholders.\\nGet In Touch With Us\\n',\n",
       " 'What’s Brewing\\nMyth Buster Series #2\\nMar 17,  | Women\\'s Day\\nThis Women\\'s Day Tapal helps debunk the myths surrounding women in the workplace! \"At Tapal I was able to challenge the notion that women cannot...\\nHappy International Women’s Day\\nMar 17,  | Women\\'s Day\\n\"In Tapal out teams come together to break the biases to create an inclusive culture\" #iwd2022 #breakthebias\\nInternation Women’s Day\\nMar 17,  | Women\\'s Day\\nDiversity and inclusion is a core belief of our leadership in Tapal. \"I will actively help spread more awareness around the phenomenon of...\\n#BreakTheBias\\nMar 17,  | Women\\'s Day\\nDiversity and inclusion is a core belief of our leadership in Tapal. \"I will encourage inclusive work environment where our teams can aim higher and...\\nInternational Women’s Day\\nMar 17,  | Women\\'s Day\\nThis International Women\\'s Day we celebrated with our esteemed guestHalima Iqbal, founder of Oraan Committee, the first digital committee platform...\\n#BreakTheBias\\nMar 17,  | Women\\'s Day\\nOur leadership team pledges to #Breakthebias not just today but every day! #iwd2022 #breakthebias\\nDiverse & Inclusive Culture at Tapal\\nMar 17,  | Women\\'s Day\\nDiversity and inclusion is a core belief of our leadership in Tapal. \"I will ensure women are given equal opportunities in sales roles\" #iwd2022...\\nMyth Buster Series #1\\nMar 17,  | Women\\'s Day\\nThis Women\\'s Day Tapal helps debunk the myths surrounding women in the workplace! \"Tapal gave me the opportunity to restart my professional journey...\\nGet In Touch With Us\\n']"
      ]
     },
     "execution_count": 2,
     "metadata": {},
     "output_type": "execute_result"
    }
   ],
   "source": [
    "website_text"
   ]
  },
  {
   "cell_type": "code",
   "execution_count": 3,
   "metadata": {},
   "outputs": [],
   "source": [
    "import json\n",
    "def load_json(file):\n",
    "    with open(file, \"r\") as f:\n",
    "        data = json.load(f)\n",
    "    return data\n",
    "\n",
    "facebook_posts = load_json(\"C:\\\\Users\\\\Dell\\\\Desktop\\\\scrapper_tapal\\\\dataset_facebook-posts-scraper_2023-11-25_17-04-48-236.json\")\n",
    "instagram_posts = load_json(\"C:\\\\Users\\\\Dell\\\\Desktop\\\\scrapper_tapal\\\\dataset_instagram-scraper_2023-11-25_17-05-35-311.json\")\n",
    "\n",
    "facebook_posts_text = []\n",
    "for post in facebook_posts:\n",
    "    facebook_posts_text.append(post['text'])\n",
    "instagram_posts_text = []\n",
    "for post in instagram_posts:\n",
    "    instagram_posts_text.append(post['caption'])"
   ]
  },
  {
   "cell_type": "code",
   "execution_count": 4,
   "metadata": {},
   "outputs": [],
   "source": [
    "dataset_list = website_text + facebook_posts_text + instagram_posts_text\n",
    "dataset_list = [item for item in dataset_list if item != '']"
   ]
  },
  {
   "cell_type": "code",
   "execution_count": 11,
   "metadata": {},
   "outputs": [],
   "source": [
    "from datasets import Dataset\n",
    "dataset = Dataset.from_dict({'text':dataset_list})"
   ]
  },
  {
   "cell_type": "code",
   "execution_count": 16,
   "metadata": {},
   "outputs": [],
   "source": [
    "dataset = dataset.shuffle()"
   ]
  },
  {
   "cell_type": "code",
   "execution_count": 17,
   "metadata": {},
   "outputs": [],
   "source": [
    "dataset = dataset.train_test_split(test_size=0.1)"
   ]
  },
  {
   "cell_type": "code",
   "execution_count": 18,
   "metadata": {},
   "outputs": [
    {
     "data": {
      "text/plain": [
       "DatasetDict({\n",
       "    train: Dataset({\n",
       "        features: ['text'],\n",
       "        num_rows: 878\n",
       "    })\n",
       "    test: Dataset({\n",
       "        features: ['text'],\n",
       "        num_rows: 98\n",
       "    })\n",
       "})"
      ]
     },
     "execution_count": 18,
     "metadata": {},
     "output_type": "execute_result"
    }
   ],
   "source": [
    "dataset"
   ]
  },
  {
   "cell_type": "code",
   "execution_count": 14,
   "metadata": {},
   "outputs": [
    {
     "data": {
      "application/vnd.jupyter.widget-view+json": {
       "model_id": "236e9fcfa458405097f7e3184ab38a70",
       "version_major": 2,
       "version_minor": 0
      },
      "text/plain": [
       "VBox(children=(HTML(value='<center> <img\\nsrc=https://huggingface.co/front/assets/huggingface_logo-noborder.sv…"
      ]
     },
     "metadata": {},
     "output_type": "display_data"
    }
   ],
   "source": [
    "from huggingface_hub import notebook_login\n",
    "notebook_login()"
   ]
  },
  {
   "cell_type": "code",
   "execution_count": 19,
   "metadata": {},
   "outputs": [
    {
     "data": {
      "application/vnd.jupyter.widget-view+json": {
       "model_id": "4513e615f02e4cbfa635e16084b0d74e",
       "version_major": 2,
       "version_minor": 0
      },
      "text/plain": [
       "Pushing dataset shards to the dataset hub:   0%|          | 0/1 [00:00<?, ?it/s]"
      ]
     },
     "metadata": {},
     "output_type": "display_data"
    },
    {
     "data": {
      "application/vnd.jupyter.widget-view+json": {
       "model_id": "de0ddd88ad754bd09ac22761e825f874",
       "version_major": 2,
       "version_minor": 0
      },
      "text/plain": [
       "Creating parquet from Arrow format:   0%|          | 0/1 [00:00<?, ?ba/s]"
      ]
     },
     "metadata": {},
     "output_type": "display_data"
    },
    {
     "data": {
      "application/vnd.jupyter.widget-view+json": {
       "model_id": "1e53db6f22674e5a86c04becf83a4982",
       "version_major": 2,
       "version_minor": 0
      },
      "text/plain": [
       "Deleting unused files from dataset repository:   0%|          | 0/1 [00:00<?, ?it/s]"
      ]
     },
     "metadata": {},
     "output_type": "display_data"
    },
    {
     "data": {
      "application/vnd.jupyter.widget-view+json": {
       "model_id": "0c53b2ffeee04db289c6dadcb1d708b8",
       "version_major": 2,
       "version_minor": 0
      },
      "text/plain": [
       "Pushing dataset shards to the dataset hub:   0%|          | 0/1 [00:00<?, ?it/s]"
      ]
     },
     "metadata": {},
     "output_type": "display_data"
    },
    {
     "data": {
      "application/vnd.jupyter.widget-view+json": {
       "model_id": "53c0e9e62a104b2ea79f9318eca6d8db",
       "version_major": 2,
       "version_minor": 0
      },
      "text/plain": [
       "Creating parquet from Arrow format:   0%|          | 0/1 [00:00<?, ?ba/s]"
      ]
     },
     "metadata": {},
     "output_type": "display_data"
    },
    {
     "data": {
      "application/vnd.jupyter.widget-view+json": {
       "model_id": "7199d75397a746b0b0a1b41cd5268481",
       "version_major": 2,
       "version_minor": 0
      },
      "text/plain": [
       "Downloading metadata:   0%|          | 0.00/282 [00:00<?, ?B/s]"
      ]
     },
     "metadata": {},
     "output_type": "display_data"
    }
   ],
   "source": [
    "dataset.push_to_hub(\"316usman/tapal_dataset_demo\")"
   ]
  },
  {
   "cell_type": "code",
   "execution_count": 1,
   "metadata": {},
   "outputs": [
    {
     "data": {
      "application/vnd.jupyter.widget-view+json": {
       "model_id": "01bfbab3b1f64bcda0d471bce10b1e2e",
       "version_major": 2,
       "version_minor": 0
      },
      "text/plain": [
       "VBox(children=(HTML(value='<center> <img\\nsrc=https://huggingface.co/front/assets/huggingface_logo-noborder.sv…"
      ]
     },
     "metadata": {},
     "output_type": "display_data"
    }
   ],
   "source": [
    "from huggingface_hub import notebook_login\n",
    "notebook_login()"
   ]
  },
  {
   "cell_type": "code",
   "execution_count": 11,
   "metadata": {},
   "outputs": [],
   "source": [
    "from datasets import load_dataset\n",
    "dataset = load_dataset(\"316usman/tapal_dataset_demo\")"
   ]
  },
  {
   "cell_type": "code",
   "execution_count": 18,
   "metadata": {},
   "outputs": [
    {
     "data": {
      "application/vnd.jupyter.widget-view+json": {
       "model_id": "fd9bff8212c640eb8c3a14475f361347",
       "version_major": 2,
       "version_minor": 0
      },
      "text/plain": [
       "Saving the dataset (0/1 shards):   0%|          | 0/878 [00:00<?, ? examples/s]"
      ]
     },
     "metadata": {},
     "output_type": "display_data"
    },
    {
     "data": {
      "application/vnd.jupyter.widget-view+json": {
       "model_id": "9f8fb11266fb43dea32e76ee93bd54fa",
       "version_major": 2,
       "version_minor": 0
      },
      "text/plain": [
       "Saving the dataset (0/1 shards):   0%|          | 0/98 [00:00<?, ? examples/s]"
      ]
     },
     "metadata": {},
     "output_type": "display_data"
    }
   ],
   "source": [
    "dataset.shuffle()\n",
    "dataset = dataset.train_test_split(test_size=0.1)\n",
    "dataset.save_to_disk(\"test_dataset\")\n"
   ]
  },
  {
   "cell_type": "code",
   "execution_count": 19,
   "metadata": {},
   "outputs": [
    {
     "data": {
      "text/plain": [
       "DatasetDict({\n",
       "    train: Dataset({\n",
       "        features: ['text'],\n",
       "        num_rows: 878\n",
       "    })\n",
       "    test: Dataset({\n",
       "        features: ['text'],\n",
       "        num_rows: 98\n",
       "    })\n",
       "})"
      ]
     },
     "execution_count": 19,
     "metadata": {},
     "output_type": "execute_result"
    }
   ],
   "source": [
    "dataset"
   ]
  },
  {
   "cell_type": "code",
   "execution_count": 31,
   "metadata": {},
   "outputs": [],
   "source": [
    "def half_text_splitter(text, tokenizer):\n",
    "    encoded_text = tokenizer(text, return_tensors=\"pt\")\n",
    "    input_ids_length = len(encoded_text[\"input_ids\"][0])\n",
    "    halfway_point = input_ids_length // 2\n",
    "    first_half_input_ids = encoded_text[\"input_ids\"][0][:halfway_point]\n",
    "    decoded_text = tokenizer.decode(first_half_input_ids)\n",
    "    return (decoded_text)"
   ]
  },
  {
   "cell_type": "code",
   "execution_count": 35,
   "metadata": {},
   "outputs": [
    {
     "name": "stdout",
     "output_type": "stream",
     "text": [
      "<s> Hear what Wasim Akram has to say about Pakistan's commendable victory against England. Share your thoughts in the comments below!\n",
      "#TapalDan\n",
      "<s> International Women’s Day\n",
      "This International Women’s Day we celebrated with our esteemed guestHalima Iqbal, founder of Oraan Committee, the first digital committee platform led by Women for Women, andSyeda Sadaf Shah, First Female drilling Engineer of Sindh. Both are success stories in their own fields. Their struggles and\n",
      "<s> A friend, a healer, a companion - Chai is synonymous with so many emotions. For a lot of us nothing can replace a good cup of tea and that too of Tap\n",
      "<s> One Cup of tea is never enough and so is the time you spend with your loved ones. \n",
      "Tou Hojaye….\n",
      "<s> Every woman is a superwoman. Tapal Green tea celebrates the acts of courage and determination by women who play an extraordinary\n",
      "<s> Take this day to thank your mom for every hug, word of encouragement, and act of love\n",
      "<s> Tapal Danedar changing lives - Fauzia Bibi, our lucky grand prize winner of the Buy and Win* Croron ke Inamaat, talks about her change of fortunes after winning the\n",
      "<s> Enjoy the refreshing aroma and flavor of Tapal Green Tea Tropical\n",
      "<s> Need to feel light after a heavy dinner? Tou phir khanay ke baad Tap\n",
      "<s> Enjoy PSL with a cup of Chai, one sip at a time! Kyun ke Tapal\n",
      "<s> Every year we plan a new year's resolution. This year, let's hear what resolution our food has for us instead. We promise it's not full of che\n",
      "<s> Sardiyon ke mazaydar khanay karein enjoy but don’t forget to have a warm\n",
      "<s> Yoga 🧘 + Green Tea 🍵 = A perfect health & fitness ritual!\n",
      "\n",
      "Stay home and try out the duo daily to release stress,\n",
      "<s> Fill in the blank.\n",
      "Tea and winter goes together like ______\n",
      "\n",
      "\n",
      "<s> Hold on! Have you tried our Elaichi Tea yet? Grab a cup of Tapal Danedar Elaichi Tea and make your day special!\n",
      "#Tap\n",
      "<s> Tapal Green Tea has natural ingredients and antioxidants that help in digestion and boost metabolism. How many\n",
      "<s> 1947, main shuru huwa aapka aur humara saath tou ayein manayein yeh jashan-e-azaadi Family Mixture ke saath.\n",
      "<s> Caught in a binge and can't stop eating? Don’t forget to have a cup of Tap\n",
      "<s> To the women who possess a mixture of hope and resilience, Tapal Family mixture is proud to facilitate their aspirations, taa ke Zahida Aunty ki\n",
      "<s> Jab aik hi parcham key saaye sath mil kar jashan manaye, tou hojaye Tum, Mein aur A\n",
      "<s> Paise bachao aur Mega Bachat ka faida uthao. Order now!\n",
      "\n",
      "<s> Follow these 4 easy steps aur apni qismat chamkaein. Intezaar na karen, abhi call milaen!\n",
      "\n",
      "- Buy any Tapal Danedar pack.\n",
      "- Give a missed call on 0310-3263327 (DANEDAR).\n",
      "- Enter product batch code &\n",
      "<s> Khud aiemaadi ke rang se banti hai zindagi strong, is liye Tapal Family Mixture aur Hunar Foundation mil kar de rahay hain kai’i families\n",
      "<s> There's always that one person you don’t enjoy tea without. Tag them and remind them to have\n",
      "<s> Zindagi key thanday garam moments ko karo enjoy bas Tapal Danedar key strong cup\n",
      "<s> #KhanayKayB\n",
      "<s> Highlights from Day 2 #KhanayKayBaad #\n",
      "<s> Plug out of your busy schedule, and charge up with 3in1 Instant Tea!\n",
      "\n",
      "#BehtareenCh\n",
      "<s> Azaadi hai aik aisa jazba jo sab ko saath laaye. So, let’s celebrate this diversity\n",
      "<s> Bilal Abbas has already ordered all his favorite flavors for his #KhanayKayBaad Tapal Green Tea rituals\n",
      "<s> Gear up because it’s time to avail some flavorful discounts exclusively on Daraz 11.11! Kyun k\n",
      "<s> Allah Ki Rehmatien hain apki muntazir!\n",
      "\n",
      "1st Lucky Draw main Umrah ki saadat hasil karne wale 15\n",
      "<s> The best time of the day is when you sit with your family and have a cup of Tapal Family Mixture tea after\n",
      "<s> Weekend vibes are made of chai and your favorite track! \n",
      "\n",
      "\n",
      "<s> Sardi k mausam mai chalti rahay... Tum Mein Aur Aik\n",
      "<s> Jeet hogi kis ke naam? Let us know in the comments below.\n",
      "\n",
      "#Tapal #TapalDan\n",
      "<s> It’s the test of the best in Pindi! So, grab a cup of tea and enjoy the historic series kyun ke ch\n",
      "<s> Kubra Khan shares the secret to post-meal serenity: a nice warm cup of Tapal Green Tea!\n",
      "\n",
      "<s> Fried food say ho jab skin compromise, aur detoxification karna paray prioritize. \n",
      "Tou Iftar kay baad Tapal Green Tea Please.\n",
      "\n",
      "Have Tapal Green Tea Elaichi\n",
      "<s> @manshapasha loved the New #TapalDanedarElaichi. Get your hand on it and try it out. Let us know\n",
      "<s> What’s a better way to digest after all that feast\n",
      "<s> Get ready for the biggest clash kyon ke ab har fan cricket aur chai ke liye bolega “Aik Aur,\n",
      "<s> Congratulations to the winners of #InternationalTeaDay! \n",
      "Kindly inbox us your contact information so we can get in touch with you. \n",
      "\n",
      "<s> Making efforts for each other in the hustle of life is what relationships are all about. Share your sweet story\n",
      "<s> Do your meals follow a cup of Tapal Green Tea afterwards\n",
      "<s> How fun is this filter!!\n",
      "Have you tried it out to find your compatiblitea yet?\n",
      "\n",
      "#T\n",
      "<s> Day 2 begins!\n",
      "Tapal Green Tea x BCW continues.... #KhanayKayBaad\n",
      "<s> This 23rd March, let's come together as a nation to conquer tough times,\n",
      "<s> Ab chahay subah ki jaldi ho ya phir shaam ka sukoon, enjoy a cup of behtareen chai with Tap\n",
      "<s> Weekend vibes are made of chai and your favorite track! \n",
      "\n",
      "\n",
      "<s> When you wake up with a fresh cup of Tapal Danedar, the only thing buzzing\n",
      "<s> The winners list is out! Congratulations to the lucky winners of Buy and Win* Croron Kay Inamaat and thank you to everyone who participated. For list of all the winners, please visit: insert our microsite link \n",
      "\n",
      "Third round of winners will be announced on 31st May - Till then you can still participate: \n",
      "\n",
      "- Buy any\n",
      "<s> Chai Talks and Sadness: Before the Pakistan vs England match, cricket legends gather for chai, pondering if there’s a slim chance for the semi-finals. @wasimakramlive\n",
      "<s> Tum Mein Aik Cup Chai Aur Cricket | Wasim Akram, Mohammad Amir & Imad Wasim\n",
      "\n",
      "Don't miss out on this exhilarating conversation between Imad Wasim and the backbone of Pakistan's bow\n",
      "<s> Had a filling but heavy lunch? Tou phir khanay ke baad Tap\n",
      "<s> Refresh yourself and feel light after every meal with Tapal Tropical Peach Green\n",
      "<s> Do you want to know aap ghar bethay bethay Croron Key Inamaat kese jeet sakte hain?\n",
      "Just click below and you’ll know!\n",
      "\n",
      "Steps To Participate:\n",
      "\n",
      "- Buy any Tapal Danedar pack.\n",
      "- Give a missed call on 0310-3263327 (DAN\n",
      "<s> Some bonds are everlasting. Make your family bond stronger with a warm cup of T\n",
      "<s> Where ever you are in Islamabad, enjoy hassle-free and a strong cup of Tea with Tapal Daned\n",
      "<s> #TapalDanedar �#TumMeinAurAikCupCh\n",
      "<s> Aik doosray ka ehsas hi banaye rishto ko khaas.\n",
      "When was the last time you made\n",
      "<s> University drive is ON! 🔥Join us to draw energy from a sip of good taste. \n",
      "Visit our stall, take a picture with your favorite flavor of Tap\n",
      "<s> Answer the call to boost your immunity.\n",
      "#K\n",
      "<s> A cup of tea with your loved ones helps you keep growing in the best possible way\n",
      "<s> The love for Chai and PSL is spreading fast. Tou chalti rahay Cricket aur Ch\n",
      "<s> Enjoy the tantalizing taste of Elaichi with your loved ones.\n",
      "#TapalDanedar #TumMe\n",
      "<s> Who doesn’t love Tea sessions after those dance practices? A warm cup of Tea is always a cher\n",
      "<s> Make your rainy day brighter by enjoying a warm cup of Tapal Danedar with the ones who\n",
      "<s> Posted @withrepost • @riddahashimkhan A happy cup of tea for myself!\n",
      "Self care is important! Treat yourself because You deserve the best! \n",
      "TAPAL ROUND TEAbags are best for all the strong chai lovers as it is bigger! 🥰\n",
      "#NoStringsAttached\n",
      "#Tapal\n",
      "#TumMeinAurAikCupChai\n",
      "#tapal\n",
      " #RoundTeaBags\n",
      ".\n",
      "#igworld\n",
      "<s> Meal Hogaya heavy?\n",
      "Tou Khanay Kay Baad Tapal Green Te\n",
      "<s> Azaadi hai aik aisa jazba jo sab ko saath laaye. So, let’s celebrate this diversity\n",
      "<s> Anything is possible if you believe in yourself and work hard. You know what makes it easier? The\n",
      "<s> Chai time couldn’t get any better with Ali Noor’s top picks! 🎸🎵\n",
      "Head over to Spotify and check it\n",
      "<s> Feeling guilty after eating too much? Tou phir hojaye iftar kay baad Tap\n",
      "<s> For old times sake, let’s raise a cup and get ready to witness another glorious win on the field.\n",
      "\n",
      "#Tapal #Tapal\n",
      "<s> Tou hojaye, baarish ke mausam mein tum, mein aur ek cup chai!\n",
      "<s> Enjoy every meal with ease, Khanay Kay Baad Tapal Green Te\n",
      "<s> Buy Tapal Danedar Umrah Pack and get a chance to fulfill your Umrah dream! \n",
      "\n",
      "<s> Tapal Family Mixture laya hai exclusive Pakistan Day deals and discounts! Abhi Daraz se order karo aur FREE delivery ka\n",
      "<s> Heavy hojaye jab iftar party ka food so what to do to uplift your mood? Tou Iftar kay baad Tapal Green\n",
      "<s> For 75 years, Tapal has been the No. 1 choice for every Pakistani. Today, we\n",
      "<s> Buy any pack of Tapal Danedar, and get a chance to WIN* croron key inamaat!\n",
      "\n",
      "Steps To Participate:\n",
      "\n",
      "- Buy any Tapal Danedar pack.\n",
      "- Give a missed call on 0310-3263327 (\n",
      "<s> Away from the cricket spotlight, our legends kick back, relax, and enjoy the vibes of Charna Island.\n",
      "\n",
      "@wasimakramliveofficial @moin_khanofficial\n",
      "<s> ABORT MISSION! ⚠️\n",
      "\n",
      "We repeat, abort all and anything you’re doing and head over to Spotify to check out Shamoon Ismail’s Chai Time playlist! �\n",
      "<s> A cup of Tapal Danedar with the special one brings endless comfort.\n",
      "#NoStringsAttached\n",
      "\n",
      "<s> The dream stays alive with aik aur jeet! Tou hojaye match ki khushi mein Aik\n",
      "<s> Indulge in the flavour of peachy goodness with Tapal Green Te\n",
      "<s> The strength they hold inside is enormous. Share with us in the comment section how you appreciate the women in your life. Let this day be a rem\n",
      "<s> Is cricket season ke heavy moments banay light jab mid match snacking kay baad ho Tapal Green\n",
      "<s> After every meal have Tapal Pure Green\n",
      "<s> Dashing @niazi.jj having a #SipOfGlamour just before the start of the show!\n",
      "\n",
      "<s> You can always count on your siblings to cover for you! \n",
      "Tag your siblings and share your fun filled stories with us, of the times when they\n",
      "<s> Sardi kay mausam mai chalti rahay... Tum, Mein Aur Aik\n",
      "<s> Abbu ki advice hai tayyar ek aur bar! The team shouldn't give any lose balls today!\n",
      "\n",
      "#FoursSixersAnd\n",
      "<s> Iss Ramadan, Sehr aur Iftar main ho Tapal Family Mixture ka\n",
      "<s> Chahay ho Cuppa ya kuch aur, stadium mein shor hoga bas “Aik Aur”! Are you ready for\n",
      "<s> Here's to fit beginnings in 2019. Happy New Year\n",
      "<s> \n",
      "Tapal Chenak\n",
      "This saffron colored pack is the leading brand in the value segment of dust tea with the product attributes that are articulated specifically to serve the people of Tharparkar in the district of Sindh. Tapal Chenak was launched in  and was the pioneer in the branded dust tea segment of the market. It offers its consumers a strong cup of tea at an affordable price and has unfolded into the most admirable tea brand for the people living in these remote areas.\n",
      "Piyar Karun Warunji Chah (A tea for those who love)\n",
      "Recent TVC Campaigns\n",
      "Tapal Chenak is a brand specifically inculcated for the needs of the people of Tharparkar and the\n"
     ]
    }
   ],
   "source": [
    "half_text=[]\n",
    "for item in validation_set:\n",
    "    half_text.append(half_text_splitter(item['text'], tokenizer))"
   ]
  },
  {
   "cell_type": "code",
   "execution_count": 36,
   "metadata": {},
   "outputs": [
    {
     "data": {
      "text/plain": [
       "[None,\n",
       " None,\n",
       " None,\n",
       " None,\n",
       " None,\n",
       " None,\n",
       " None,\n",
       " None,\n",
       " None,\n",
       " None,\n",
       " None,\n",
       " None,\n",
       " None,\n",
       " None,\n",
       " None,\n",
       " None,\n",
       " None,\n",
       " None,\n",
       " None,\n",
       " None,\n",
       " None,\n",
       " None,\n",
       " None,\n",
       " None,\n",
       " None,\n",
       " None,\n",
       " None,\n",
       " None,\n",
       " None,\n",
       " None,\n",
       " None,\n",
       " None,\n",
       " None,\n",
       " None,\n",
       " None,\n",
       " None,\n",
       " None,\n",
       " None,\n",
       " None,\n",
       " None,\n",
       " None,\n",
       " None,\n",
       " None,\n",
       " None,\n",
       " None,\n",
       " None,\n",
       " None,\n",
       " None,\n",
       " None,\n",
       " None,\n",
       " None,\n",
       " None,\n",
       " None,\n",
       " None,\n",
       " None,\n",
       " None,\n",
       " None,\n",
       " None,\n",
       " None,\n",
       " None,\n",
       " None,\n",
       " None,\n",
       " None,\n",
       " None,\n",
       " None,\n",
       " None,\n",
       " None,\n",
       " None,\n",
       " None,\n",
       " None,\n",
       " None,\n",
       " None,\n",
       " None,\n",
       " None,\n",
       " None,\n",
       " None,\n",
       " None,\n",
       " None,\n",
       " None,\n",
       " None,\n",
       " None,\n",
       " None,\n",
       " None,\n",
       " None,\n",
       " None,\n",
       " None,\n",
       " None,\n",
       " None,\n",
       " None,\n",
       " None,\n",
       " None,\n",
       " None,\n",
       " None,\n",
       " None,\n",
       " None,\n",
       " None,\n",
       " None,\n",
       " None]"
      ]
     },
     "execution_count": 36,
     "metadata": {},
     "output_type": "execute_result"
    }
   ],
   "source": [
    "half_text"
   ]
  },
  {
   "cell_type": "code",
   "execution_count": null,
   "metadata": {},
   "outputs": [],
   "source": []
  }
 ],
 "metadata": {
  "kernelspec": {
   "display_name": "base",
   "language": "python",
   "name": "python3"
  },
  "language_info": {
   "codemirror_mode": {
    "name": "ipython",
    "version": 3
   },
   "file_extension": ".py",
   "mimetype": "text/x-python",
   "name": "python",
   "nbconvert_exporter": "python",
   "pygments_lexer": "ipython3",
   "version": "3.11.4"
  }
 },
 "nbformat": 4,
 "nbformat_minor": 2
}
